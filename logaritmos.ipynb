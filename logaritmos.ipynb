{
 "cells": [
  {
   "cell_type": "code",
   "execution_count": 4,
   "metadata": {},
   "outputs": [
    {
     "name": "stdout",
     "output_type": "stream",
     "text": [
      "/Users/lesterangulo/.pyenv/versions/3.9.13/lib/python3.9/site-packages/_distutils_hack/__init__.py:33: UserWarning: Setuptools is replacing distutils.\n",
      "  warnings.warn(\"Setuptools is replacing distutils.\")\n"
     ]
    }
   ],
   "source": [
    "import math"
   ]
  },
  {
   "attachments": {},
   "cell_type": "markdown",
   "metadata": {},
   "source": [
    "# Logaritmos"
   ]
  },
  {
   "attachments": {},
   "cell_type": "markdown",
   "metadata": {},
   "source": [
    "## Forma"
   ]
  },
  {
   "attachments": {},
   "cell_type": "markdown",
   "metadata": {},
   "source": [
    "$\\log_{x}número$\n",
    "\n",
    "Se lee, logaritmo en base $x$ de _número_\n",
    "\n",
    "$\\log_{10}100$\n",
    "\n",
    "Logaritmo en base 10 de 100. Generalmente la base 10 no se escribe. Por lo que\n",
    "\n",
    "$\\log_{10}100 =  \\log 100$"
   ]
  },
  {
   "attachments": {},
   "cell_type": "markdown",
   "metadata": {},
   "source": [
    "## Definición"
   ]
  },
  {
   "attachments": {},
   "cell_type": "markdown",
   "metadata": {},
   "source": [
    "¿Cuál sería el exponente de la _base_ para que el resultado sea el número?\n",
    "\n",
    "$\\log_{10}100$\n",
    "\n",
    "¿Cuál sería el exponente de 10 para que el resultado sea 100?\n",
    "\n",
    "¿Cuantas veces tengo que multiplicar 10 por si mismo para que el resultado de 100?"
   ]
  },
  {
   "cell_type": "code",
   "execution_count": 1,
   "metadata": {},
   "outputs": [
    {
     "data": {
      "text/plain": [
       "100"
      ]
     },
     "execution_count": 1,
     "metadata": {},
     "output_type": "execute_result"
    }
   ],
   "source": [
    "10**2"
   ]
  },
  {
   "cell_type": "code",
   "execution_count": 18,
   "metadata": {},
   "outputs": [
    {
     "name": "stdout",
     "output_type": "stream",
     "text": [
      "Logaritmo en base 10 de 100 = 2.0\n",
      "\tPorque: 10 por 10 = 100\n",
      "\n",
      "Logaritmo en base 5 de 25 = 2.0\n",
      "\tPorque: 5 por 5 = 25\n",
      "\n",
      "Logaritmo en base 2 de 4 = 2.0\n",
      "\tPorque: 2 por 2 = 4\n",
      "\n",
      "Logaritmo en base 6 de 36 = 2.0\n",
      "\tPorque: 6 por 6 = 36\n",
      "\n",
      "Logaritmo en base 3 de 81 = 4.0\n",
      "\tPorque: 3 por 3 = 9\n",
      "\n"
     ]
    }
   ],
   "source": [
    "# Using math\n",
    "math.log(100, 10)\n",
    "\n",
    "table = [\n",
    "    (100, 10),\n",
    "    (25, 5),\n",
    "    (4, 2),\n",
    "    (36, 6),\n",
    "    (81, 3),\n",
    "]\n",
    "\n",
    "for item in table:\n",
    "    result = math.log(*item)\n",
    "    base = item[1]\n",
    "    number = item[0]\n",
    "    print(f'Logaritmo en base {base} de {number} = {result}')\n",
    "    print(f'\\tPorque: {base} por {base} = {base * base}\\n')"
   ]
  },
  {
   "attachments": {},
   "cell_type": "markdown",
   "metadata": {},
   "source": [
    "$\\log_{2} 32 = 5 $\n",
    "\n",
    "Cuántas veces tengo que multiplicar 2 por si mismo para obtener 32?\n",
    "\n",
    "- 2 * 2 = 4\n",
    "- 2 * 2 * 2 = 8\n",
    "- 2 * 2 * 2 * 2 = 16\n",
    "- 2 * 2 * 2 * 2 * 2 = 32"
   ]
  },
  {
   "attachments": {},
   "cell_type": "markdown",
   "metadata": {},
   "source": [
    "### Logaritmo Natural\n",
    "\n",
    "> $\\log_{e}$"
   ]
  },
  {
   "attachments": {},
   "cell_type": "markdown",
   "metadata": {},
   "source": [
    "$\\log_{e}10 = Ln 10$\n",
    "\n",
    "Logaritmo en base _e_ de 10. El logaritmo natural es la representación de $\\log_{e}$\n",
    "sin escribir _e_."
   ]
  },
  {
   "attachments": {},
   "cell_type": "markdown",
   "metadata": {},
   "source": [
    "Ln 1 = 0\n",
    "\n",
    "Ln e = 1 "
   ]
  },
  {
   "attachments": {},
   "cell_type": "markdown",
   "metadata": {},
   "source": [
    "## Usos"
   ]
  },
  {
   "attachments": {},
   "cell_type": "markdown",
   "metadata": {},
   "source": [
    "Los logaritmos son una herramienta matemática utilizada para resolver ecuaciones exponenciales y realizar cálculos relacionados con el crecimiento y la decaída de cantidades. Tienen varias aplicaciones y usos en diferentes campos, incluyendo:\n",
    "\n",
    "1. Resolución de ecuaciones exponenciales: Los logaritmos permiten resolver ecuaciones de la forma $a^{x} = b$, donde se desconoce el exponente `x` pero se conocen la base a y el resultado b. Al aplicar logaritmos a ambos lados de la ecuación, se puede encontrar el valor de `x`.\n",
    "\n",
    "2. Simplificación de cálculos: Los logaritmos pueden utilizarse para simplificar cálculos, especialmente cuando se involucran multiplicaciones, divisiones o potencias. Al convertir operaciones en logaritmos, se pueden realizar cálculos más simples y rápidos.\n",
    "\n",
    "3. Medición de magnitudes: Los logaritmos se utilizan en escalas logarítmicas para medir magnitudes que tienen un rango muy amplio, como el pH (medida de acidez), la intensidad de un terremoto (escala de Richter) o el nivel de sonido (escala decibel).\n",
    "\n",
    "4. Análisis de crecimiento y decaimiento: Los logaritmos ayudan a analizar el crecimiento y la decaída de cantidades en diferentes campos, como la biología, la economía y las ciencias físicas. Permiten modelar fenómenos de crecimiento exponencial y estudiar tasas de cambio relativas.\n",
    "\n",
    "5. Compresión de datos: En informática y telecomunicaciones, los logaritmos se utilizan en algoritmos de compresión de datos, donde se busca reducir el tamaño de la información sin perder demasiada precisión.\n",
    "\n",
    "Estos son solo algunos ejemplos de las aplicaciones de los logaritmos. En resumen, los logaritmos son una herramienta matemática versátil que se utiliza en una amplia variedad de situaciones donde es necesario resolver ecuaciones exponenciales, simplificar cálculos y medir magnitudes en escalas logarítmicas."
   ]
  },
  {
   "attachments": {},
   "cell_type": "markdown",
   "metadata": {},
   "source": [
    "Supongamos que estás interesado en invertir tu dinero en un producto financiero que ofrece una tasa de interés anual del 5%. Quieres calcular cuánto tiempo tomará duplicar tu inversión inicial.\n",
    "\n",
    "Aquí es donde puedes utilizar logaritmos. Utilizando la fórmula del interés compuesto, puedes establecer la siguiente ecuación:\n",
    "\n",
    "$$2 = (1 + 0.05)^t$$\n",
    "\n",
    "Donde \"2\" representa el monto final (el doble de tu inversión inicial), \n",
    "\n",
    "\"0.05\" es la tasa de interés anual expresada como decimal (5% dividido por 100),\n",
    "\n",
    "y \"t\" es el número de años que tomará duplicar la inversión.\n",
    "\n",
    "Para resolver esta ecuación y encontrar el valor de `t`, puedes aplicar logaritmos en ambos lados de la ecuación. En este caso, puedes utilizar el logaritmo en base 10:\n",
    "\n",
    "$$\\log_{10}(2) = \\log_{10}((1 + 0.05)^t)$$\n",
    "\n",
    "Utilizando las propiedades de los logaritmos, puedes simplificar la ecuación:\n",
    "\n",
    "$$\\log_{10}(2) = t \\cdot \\log_{10}(1.05)$$\n",
    "\n",
    "\"El logaritmo en base 10 de 2 es igual al logaritmo en base 10 de la cantidad resultante de aumentar el valor 1 en un 5% durante un tiempo `t`\".\n",
    "\n",
    "En otras palabras, estamos buscando el valor de `t` que hace que el aumento del 5% en el valor 1 resulte en el número 2. Esta ecuación nos permite calcular el tiempo necesario para que una cantidad crezca exponencialmente desde 1 hasta 2 con una tasa de crecimiento del 5% por período.\n",
    "\n",
    "Por lo tanto, podríamos interpretarla como una pregunta sobre el tiempo necesario para que una cantidad crezca exponencialmente y alcance un valor específico bajo ciertas condiciones de crecimiento.\n",
    "\n",
    "Finalmente, puedes resolver la ecuación para \"t\" dividiendo ambos lados por $$\\log_{10}(1.05)$$:\n",
    "\n",
    "$$t = \\frac{\\log_{10}(2)}{\\log_{10}(1.05)}$$\n",
    "\n",
    "Al calcular este valor, obtendrás el número de años que tomará duplicar tu inversión inicial con una tasa de interés del 5%."
   ]
  },
  {
   "cell_type": "code",
   "execution_count": 63,
   "metadata": {},
   "outputs": [
    {
     "name": "stdout",
     "output_type": "stream",
     "text": [
      "Con una tasa de interes 0.07, para duplicar una inversion de 1000 se necesitan 10.244768351058712 años\n"
     ]
    }
   ],
   "source": [
    "rate = 0.07\n",
    "initial_amount = 1000\n",
    "\n",
    "t = math.log(2) / math.log(1 + rate)\n",
    "print(f'Con una tasa de interes {rate}, para duplicar una inversion de {initial_amount} se necesitan {t} años')\n"
   ]
  },
  {
   "attachments": {},
   "cell_type": "markdown",
   "metadata": {},
   "source": [
    "## Propiedades"
   ]
  },
  {
   "attachments": {},
   "cell_type": "markdown",
   "metadata": {},
   "source": [
    "### $\\log_{1} = 0$"
   ]
  },
  {
   "attachments": {},
   "cell_type": "markdown",
   "metadata": {},
   "source": [
    "> $\\log_{x} 1 = 0 $ \n",
    "\n",
    "Cuantas veces tengo que multiplicar $x$ por si misma para que el resultado sea 1? Cero.\n",
    "\n",
    "Porque $x^{0} = 1$\n",
    "\n",
    "Por la propiedad de la multiplicación de las potencias.\n",
    "\n",
    "$x^{2} * x^{2} = x^{2+2} $\n",
    "\n",
    "$2^{2} * 2^{2} = 2^{2+2} $\n",
    "\n",
    "$4 * 4 = 2^{4} $\n",
    "\n",
    "$ 16 = 16 $\n",
    "\n",
    "Por lo que:\n",
    "\n",
    "$x^{0} * x^{a} = x^{a+0} $\n",
    "\n",
    "$x^{0} * x^{a} = x^{a} $\n",
    "\n",
    "Para que esto sea cierto, el valor de $x^{0}$ tiene que ser 1.\n",
    "\n",
    "$1 * x^{a} = x^{a} $\n",
    "\n",
    "Veamos:\n",
    "\n",
    "$2^{0} * 2^{2} = 2^{2+0} $\n",
    "\n",
    "$2^{0} * 2^{2} = 2^{2} $\n",
    "\n",
    "$1 * 4 = 4 $"
   ]
  },
  {
   "cell_type": "code",
   "execution_count": 20,
   "metadata": {},
   "outputs": [
    {
     "data": {
      "text/plain": [
       "True"
      ]
     },
     "execution_count": 20,
     "metadata": {},
     "output_type": "execute_result"
    }
   ],
   "source": [
    "2**2 * 2**2 == 16"
   ]
  },
  {
   "cell_type": "code",
   "execution_count": 22,
   "metadata": {},
   "outputs": [
    {
     "data": {
      "text/plain": [
       "True"
      ]
     },
     "execution_count": 22,
     "metadata": {},
     "output_type": "execute_result"
    }
   ],
   "source": [
    "2**0 * 2**2 == 4"
   ]
  },
  {
   "attachments": {},
   "cell_type": "markdown",
   "metadata": {},
   "source": [
    "### $\\log_{x}x = 1$"
   ]
  },
  {
   "attachments": {},
   "cell_type": "markdown",
   "metadata": {},
   "source": [
    "Logaritmo en base $x$ de $x$ es igual a 1.\n",
    "\n",
    "Cuántas veces tengo que multiplcar $x$ para que me de $x$ ? 1."
   ]
  },
  {
   "cell_type": "code",
   "execution_count": 24,
   "metadata": {},
   "outputs": [
    {
     "data": {
      "text/plain": [
       "10"
      ]
     },
     "execution_count": 24,
     "metadata": {},
     "output_type": "execute_result"
    }
   ],
   "source": [
    "# log 10\n",
    "10**1"
   ]
  },
  {
   "cell_type": "code",
   "execution_count": 25,
   "metadata": {},
   "outputs": [
    {
     "data": {
      "text/plain": [
       "1.0"
      ]
     },
     "execution_count": 25,
     "metadata": {},
     "output_type": "execute_result"
    }
   ],
   "source": [
    "math.log(10,10)"
   ]
  },
  {
   "attachments": {},
   "cell_type": "markdown",
   "metadata": {},
   "source": [
    "### Logaritmo de una multiplicación"
   ]
  },
  {
   "attachments": {},
   "cell_type": "markdown",
   "metadata": {},
   "source": [
    "$\\log_{x} y * z = \\log_{x} y + \\log_{x} z $\n",
    "\n",
    "El resultado del logaritmo en base `x` de `y` por `z` es igual a la suma del\n",
    "logaritmo en base `x` de `y` **más** logaritmo en base `x` de `z`."
   ]
  },
  {
   "attachments": {},
   "cell_type": "markdown",
   "metadata": {},
   "source": [
    "$\\log_{2} 4 * 8 = \\log_{2} 4 + \\log_{2} 8 $\n",
    "\n",
    "$\\log_{2} 4 * 8 = 2 + 3 $\n",
    "\n",
    "$\\log_{2} 4 * 8 = 5 $\n",
    "\n",
    "Realizando la multiplicación:\n",
    "\n",
    "$\\log_{2} 32 = 5 $\n",
    "\n",
    "Cuántas veces tengo que multiplicar 2 por si mismo para obtener 32?\n",
    "\n",
    "- 2 * 2 = 4\n",
    "- 2 * 2 * 2 = 8\n",
    "- 2 * 2 * 2 * 2 = 16\n",
    "- 2 * 2 * 2 * 2 * 2 = 32"
   ]
  },
  {
   "cell_type": "code",
   "execution_count": 29,
   "metadata": {},
   "outputs": [
    {
     "name": "stdout",
     "output_type": "stream",
     "text": [
      "5.0 5.0\n"
     ]
    },
    {
     "data": {
      "text/plain": [
       "True"
      ]
     },
     "execution_count": 29,
     "metadata": {},
     "output_type": "execute_result"
    }
   ],
   "source": [
    "multiply = math.log(4 * 8, 2)\n",
    "result = math.log(4, 2) + math.log(8, 2) \n",
    "\n",
    "print(multiply, result)\n",
    "\n",
    "math.log(4 * 8, 2) == math.log(4, 2) + math.log(8, 2)"
   ]
  },
  {
   "attachments": {},
   "cell_type": "markdown",
   "metadata": {},
   "source": [
    "### Logaritmo de una potencia"
   ]
  },
  {
   "attachments": {},
   "cell_type": "markdown",
   "metadata": {},
   "source": [
    "$\\log_{x} a^{b} = b * \\log_{x} a $\n",
    "\n",
    "$\\log_{2} 2^{2} = 2 * \\log_{2} 4 $\n",
    "\n",
    "$\\log_{2} 2^{2} = 2 * 2 $\n",
    "\n",
    "$\\log_{2} 2^{2} = 4 $"
   ]
  },
  {
   "cell_type": "code",
   "execution_count": 32,
   "metadata": {},
   "outputs": [
    {
     "name": "stdout",
     "output_type": "stream",
     "text": [
      "4.0\n"
     ]
    },
    {
     "data": {
      "text/plain": [
       "True"
      ]
     },
     "execution_count": 32,
     "metadata": {},
     "output_type": "execute_result"
    }
   ],
   "source": [
    "result = math.log(4**2, 2)\n",
    "print(result)\n",
    "\n",
    "math.log(4**2, 2) == 2 * math.log(4, 2)"
   ]
  },
  {
   "attachments": {},
   "cell_type": "markdown",
   "metadata": {},
   "source": [
    "$\\log_{2} 4^{x} = x * \\log_{2} 4 $\n",
    "\n",
    "$\\log_{2} 4^{x} = x * 2 $\n",
    "\n",
    "$\\log_{2} 4^{x} = 2x $"
   ]
  },
  {
   "attachments": {},
   "cell_type": "markdown",
   "metadata": {},
   "source": [
    "## Logaritmo de una fracción"
   ]
  },
  {
   "attachments": {},
   "cell_type": "markdown",
   "metadata": {},
   "source": [
    "$\\log_{x} \\frac{a}{b} = \\log_{x} a - \\log_{x} b $\n",
    "\n",
    "El logaritmo en base `x` de $\\frac{a}{b}$ es igual al logaritmo en base `x` de `a` menos el logaritmo en base `x` de `b`.\n",
    "\n",
    "Siempre el numerador va a ser positivo y el denominador va a ser negativo."
   ]
  },
  {
   "attachments": {},
   "cell_type": "markdown",
   "metadata": {},
   "source": [
    "$\\log_{2} \\frac{8}{4} = \\log_{2} 8 - \\log_{2} 4 $\n",
    "\n",
    "$\\log_{2} \\frac{8}{4} = 3 - 2 $\n",
    "\n",
    "$\\log_{2} \\frac{8}{4} = 1 $\n",
    "\n",
    "Resolviendo con la división:\n",
    "\n",
    "$\\log_{2} 2 = 1 $"
   ]
  },
  {
   "cell_type": "code",
   "execution_count": 33,
   "metadata": {},
   "outputs": [
    {
     "data": {
      "text/plain": [
       "True"
      ]
     },
     "execution_count": 33,
     "metadata": {},
     "output_type": "execute_result"
    }
   ],
   "source": [
    "math.log(8/4, 2) == math.log(8, 2) - math.log(4, 2)"
   ]
  },
  {
   "attachments": {},
   "cell_type": "markdown",
   "metadata": {},
   "source": [
    "Si podemos convertir de una fracción ( cociente ) a una resta, también podemos de una resta a una fracción.\n",
    "\n",
    "$\\log_{2} 8 - \\log_{2} 4 = \\log_{2} \\frac{8}{4} $\n",
    "\n",
    "$\\log_{2} 8 - \\log_{2} 4 =  $\n",
    "\n",
    "Los valores positivos se pasan al numerador y los negativos al denominador.\n",
    "\n",
    "$\\log_{2} 8 - \\log_{2} 4 + \\log_{2} 16 = \\log_{2} \\frac{8 * 16}{4} $\n",
    "\n",
    "$\\log_{2} 8 - \\log_{2} 4 + \\log_{2} 16 = \\log_{2} \\frac{128}{4} $\n",
    "\n"
   ]
  },
  {
   "cell_type": "code",
   "execution_count": 38,
   "metadata": {},
   "outputs": [
    {
     "data": {
      "text/plain": [
       "True"
      ]
     },
     "execution_count": 38,
     "metadata": {},
     "output_type": "execute_result"
    }
   ],
   "source": [
    "math.log(8*16/4, 2) == math.log(8, 2) - math.log(4, 2) + math.log(16, 2)"
   ]
  },
  {
   "attachments": {},
   "cell_type": "markdown",
   "metadata": {},
   "source": [
    "## Logaritmo de una raiz"
   ]
  },
  {
   "attachments": {},
   "cell_type": "markdown",
   "metadata": {},
   "source": [
    "$\\log_{x} \\sqrt{a} = \\frac{1}{2} * \\log_{x} a$\n",
    "\n",
    "El logaritmo en base `x` de la raiz cuadrada de `a` es igual a $\\frac{1}{2}$ por el logaritmo de `a`\n",
    "\n",
    "$\\frac{1}{2}$ se obtiene de la siguiente manera:\n",
    "\n",
    "El índice de la raiz se pasa a la fracción que multiplica al logaritmo. Se pasa al denominador\n",
    "\n",
    "Se puede hacer por la propiedad de convertir raiz en un exponente:\n",
    "\n",
    "$\\sqrt{4}$ \n",
    "\n",
    "$4^{\\frac{1}{2}}$ \n",
    "\n",
    "Hay que recordar que en $\\log_{x} \\sqrt{a}$ existe un 1 como exponente de `a`\n",
    "y que el 2 en raiz cuadrada no se escribe."
   ]
  },
  {
   "cell_type": "code",
   "execution_count": 40,
   "metadata": {},
   "outputs": [
    {
     "data": {
      "text/plain": [
       "True"
      ]
     },
     "execution_count": 40,
     "metadata": {},
     "output_type": "execute_result"
    }
   ],
   "source": [
    "4**(1/2) == math.sqrt(4)"
   ]
  },
  {
   "attachments": {},
   "cell_type": "markdown",
   "metadata": {},
   "source": [
    "$\\log_{3} \\sqrt{81} = \\frac{1}{2} * \\log_{3} 81$\n",
    "\n",
    "$\\log_{3} \\sqrt{81} = \\frac{1}{2} * 4$\n",
    "\n",
    "Hay que recordar que existe un 1 debajo de 4:\n",
    "\n",
    "$\\log_{3} \\sqrt{81} = \\frac{1}{2} * \\frac{4}{1}$\n",
    "\n",
    "$\\log_{3} \\sqrt{81} = \\frac{1*4}{2*1}$\n",
    "\n",
    "$\\log_{3} \\sqrt{81} = \\frac{4}{2}$\n",
    "\n",
    "$\\log_{3} \\sqrt{81} = 2 $\n"
   ]
  },
  {
   "cell_type": "code",
   "execution_count": 56,
   "metadata": {},
   "outputs": [
    {
     "data": {
      "text/plain": [
       "(2.0, 2.0)"
      ]
     },
     "execution_count": 56,
     "metadata": {},
     "output_type": "execute_result"
    }
   ],
   "source": [
    "math.log(81**(1/2), 3), (1/2) * math.log(81, 3)"
   ]
  },
  {
   "attachments": {},
   "cell_type": "markdown",
   "metadata": {},
   "source": [
    "# Solución de ecuaciones"
   ]
  },
  {
   "attachments": {},
   "cell_type": "markdown",
   "metadata": {},
   "source": [
    "$\\log_{2} 4 = 2 $\n",
    "\n",
    "El logaritmo en base 2 de 4 es igual a 2.\n",
    "\n",
    "Cuantas veces tengo que multiplicar 2 para que me de 4? dos.\n",
    "\n",
    "Por lo que podríamos decir que $2^{2} = 4$"
   ]
  },
  {
   "attachments": {},
   "cell_type": "markdown",
   "metadata": {},
   "source": [
    "Veamos otro ejemplo:\n",
    "\n",
    "$\\log_{2}(2x + 2) = 8 $\n",
    "\n",
    "Aquí se puede usar la forma de equación del logaritmo usando la base (2) y el exponente (8)\n",
    "para igualar a la ecuación.\n",
    "\n",
    "\n",
    "$ 2^{8} = 2x + 2 $\n",
    "\n",
    "$ 256 = 2x + 2 $\n",
    "\n",
    "$ 256 - 2 = 2x $\n",
    "\n",
    "$ 254 = 2x $\n",
    "\n",
    "$ \\frac{254}{2} = x $\n",
    "\n",
    "$ 127 = x $"
   ]
  },
  {
   "cell_type": "code",
   "execution_count": 70,
   "metadata": {},
   "outputs": [
    {
     "data": {
      "text/plain": [
       "True"
      ]
     },
     "execution_count": 70,
     "metadata": {},
     "output_type": "execute_result"
    }
   ],
   "source": [
    "math.log((2*127) + 2, 2) == 8"
   ]
  }
 ],
 "metadata": {
  "kernelspec": {
   "display_name": "Python 3",
   "language": "python",
   "name": "python3"
  },
  "language_info": {
   "codemirror_mode": {
    "name": "ipython",
    "version": 3
   },
   "file_extension": ".py",
   "mimetype": "text/x-python",
   "name": "python",
   "nbconvert_exporter": "python",
   "pygments_lexer": "ipython3",
   "version": "3.9.13"
  },
  "orig_nbformat": 4
 },
 "nbformat": 4,
 "nbformat_minor": 2
}
